{
 "cells": [
  {
   "cell_type": "markdown",
   "metadata": {},
   "source": [
    "# Import Data and Preprocessing"
   ]
  },
  {
   "cell_type": "code",
   "execution_count": 108,
   "metadata": {},
   "outputs": [],
   "source": [
    "#importing required libraries\n",
    "import pandas as pd\n",
    "import matplotlib.pyplot as plt\n",
    "%matplotlib inline"
   ]
  },
  {
   "cell_type": "code",
   "execution_count": 109,
   "metadata": {},
   "outputs": [],
   "source": [
    "#Reading the files\n",
    "features = pd.read_csv('bank_transactions_dataset/bank_transaction_features.csv')\n",
    "labels = pd.read_csv('bank_transactions_dataset/bank_transaction_labels.csv')"
   ]
  },
  {
   "cell_type": "code",
   "execution_count": 110,
   "metadata": {},
   "outputs": [
    {
     "data": {
      "text/html": [
       "<div>\n",
       "<style scoped>\n",
       "    .dataframe tbody tr th:only-of-type {\n",
       "        vertical-align: middle;\n",
       "    }\n",
       "\n",
       "    .dataframe tbody tr th {\n",
       "        vertical-align: top;\n",
       "    }\n",
       "\n",
       "    .dataframe thead th {\n",
       "        text-align: right;\n",
       "    }\n",
       "</style>\n",
       "<table border=\"1\" class=\"dataframe\">\n",
       "  <thead>\n",
       "    <tr style=\"text-align: right;\">\n",
       "      <th></th>\n",
       "      <th>bank_transaction_id</th>\n",
       "      <th>bank_transaction_description</th>\n",
       "      <th>bank_transaction_amount</th>\n",
       "      <th>bank_transaction_type</th>\n",
       "    </tr>\n",
       "  </thead>\n",
       "  <tbody>\n",
       "    <tr>\n",
       "      <th>0</th>\n",
       "      <td>21786195</td>\n",
       "      <td>citylink</td>\n",
       "      <td>-13.80</td>\n",
       "      <td>MPO</td>\n",
       "    </tr>\n",
       "    <tr>\n",
       "      <th>1</th>\n",
       "      <td>21786196</td>\n",
       "      <td>citylink</td>\n",
       "      <td>-13.14</td>\n",
       "      <td>DEB</td>\n",
       "    </tr>\n",
       "    <tr>\n",
       "      <th>2</th>\n",
       "      <td>21786197</td>\n",
       "      <td>1Jul19 OYSTER</td>\n",
       "      <td>-36.98</td>\n",
       "      <td>DEB</td>\n",
       "    </tr>\n",
       "    <tr>\n",
       "      <th>3</th>\n",
       "      <td>21786198</td>\n",
       "      <td>travelodge</td>\n",
       "      <td>-75.73</td>\n",
       "      <td>MPO</td>\n",
       "    </tr>\n",
       "    <tr>\n",
       "      <th>4</th>\n",
       "      <td>21786199</td>\n",
       "      <td>6Jul19 RINGGO</td>\n",
       "      <td>-37.86</td>\n",
       "      <td>CSH</td>\n",
       "    </tr>\n",
       "  </tbody>\n",
       "</table>\n",
       "</div>"
      ],
      "text/plain": [
       "   bank_transaction_id bank_transaction_description  bank_transaction_amount  \\\n",
       "0             21786195                     citylink                   -13.80   \n",
       "1             21786196                     citylink                   -13.14   \n",
       "2             21786197                1Jul19 OYSTER                   -36.98   \n",
       "3             21786198                   travelodge                   -75.73   \n",
       "4             21786199                6Jul19 RINGGO                   -37.86   \n",
       "\n",
       "  bank_transaction_type  \n",
       "0                   MPO  \n",
       "1                   DEB  \n",
       "2                   DEB  \n",
       "3                   MPO  \n",
       "4                   CSH  "
      ]
     },
     "execution_count": 110,
     "metadata": {},
     "output_type": "execute_result"
    }
   ],
   "source": [
    "#printing out first few rows\n",
    "features.head()"
   ]
  },
  {
   "cell_type": "code",
   "execution_count": 111,
   "metadata": {},
   "outputs": [
    {
     "data": {
      "text/plain": [
       "(12500, 4)"
      ]
     },
     "execution_count": 111,
     "metadata": {},
     "output_type": "execute_result"
    }
   ],
   "source": [
    "#dimensions of features\n",
    "features.shape"
   ]
  },
  {
   "cell_type": "code",
   "execution_count": 112,
   "metadata": {},
   "outputs": [
    {
     "data": {
      "text/html": [
       "<div>\n",
       "<style scoped>\n",
       "    .dataframe tbody tr th:only-of-type {\n",
       "        vertical-align: middle;\n",
       "    }\n",
       "\n",
       "    .dataframe tbody tr th {\n",
       "        vertical-align: top;\n",
       "    }\n",
       "\n",
       "    .dataframe thead th {\n",
       "        text-align: right;\n",
       "    }\n",
       "</style>\n",
       "<table border=\"1\" class=\"dataframe\">\n",
       "  <thead>\n",
       "    <tr style=\"text-align: right;\">\n",
       "      <th></th>\n",
       "      <th>bank_transaction_id</th>\n",
       "      <th>bank_transaction_category</th>\n",
       "      <th>bank_transaction_dataset</th>\n",
       "    </tr>\n",
       "  </thead>\n",
       "  <tbody>\n",
       "    <tr>\n",
       "      <th>0</th>\n",
       "      <td>21786195</td>\n",
       "      <td>TRAVEL</td>\n",
       "      <td>TRAIN</td>\n",
       "    </tr>\n",
       "    <tr>\n",
       "      <th>1</th>\n",
       "      <td>21786196</td>\n",
       "      <td>TRAVEL</td>\n",
       "      <td>TRAIN</td>\n",
       "    </tr>\n",
       "    <tr>\n",
       "      <th>2</th>\n",
       "      <td>21786197</td>\n",
       "      <td>TRAVEL</td>\n",
       "      <td>TRAIN</td>\n",
       "    </tr>\n",
       "    <tr>\n",
       "      <th>3</th>\n",
       "      <td>21786198</td>\n",
       "      <td>TRAVEL</td>\n",
       "      <td>TRAIN</td>\n",
       "    </tr>\n",
       "    <tr>\n",
       "      <th>4</th>\n",
       "      <td>21786199</td>\n",
       "      <td>TRAVEL</td>\n",
       "      <td>TRAIN</td>\n",
       "    </tr>\n",
       "  </tbody>\n",
       "</table>\n",
       "</div>"
      ],
      "text/plain": [
       "   bank_transaction_id bank_transaction_category bank_transaction_dataset\n",
       "0             21786195                    TRAVEL                    TRAIN\n",
       "1             21786196                    TRAVEL                    TRAIN\n",
       "2             21786197                    TRAVEL                    TRAIN\n",
       "3             21786198                    TRAVEL                    TRAIN\n",
       "4             21786199                    TRAVEL                    TRAIN"
      ]
     },
     "execution_count": 112,
     "metadata": {},
     "output_type": "execute_result"
    }
   ],
   "source": [
    "#first few rows of labels dataframe\n",
    "labels.head()"
   ]
  },
  {
   "cell_type": "code",
   "execution_count": 113,
   "metadata": {},
   "outputs": [
    {
     "data": {
      "text/plain": [
       "(12500, 3)"
      ]
     },
     "execution_count": 113,
     "metadata": {},
     "output_type": "execute_result"
    }
   ],
   "source": [
    "#shape of labels\n",
    "labels.shape"
   ]
  },
  {
   "cell_type": "code",
   "execution_count": 114,
   "metadata": {},
   "outputs": [],
   "source": [
    "#Left join to merge both the data sets for a final dataframe\n",
    "final_df_original = features.merge(labels, how = 'left')\n",
    "\n",
    "#Droping bank_transaction_id column as it will not add any value to our model\n",
    "final_df_original.drop('bank_transaction_id',1, inplace = True)"
   ]
  },
  {
   "cell_type": "code",
   "execution_count": 115,
   "metadata": {},
   "outputs": [
    {
     "data": {
      "text/html": [
       "<div>\n",
       "<style scoped>\n",
       "    .dataframe tbody tr th:only-of-type {\n",
       "        vertical-align: middle;\n",
       "    }\n",
       "\n",
       "    .dataframe tbody tr th {\n",
       "        vertical-align: top;\n",
       "    }\n",
       "\n",
       "    .dataframe thead th {\n",
       "        text-align: right;\n",
       "    }\n",
       "</style>\n",
       "<table border=\"1\" class=\"dataframe\">\n",
       "  <thead>\n",
       "    <tr style=\"text-align: right;\">\n",
       "      <th></th>\n",
       "      <th>bank_transaction_description</th>\n",
       "      <th>bank_transaction_amount</th>\n",
       "      <th>bank_transaction_type</th>\n",
       "      <th>bank_transaction_category</th>\n",
       "      <th>bank_transaction_dataset</th>\n",
       "    </tr>\n",
       "  </thead>\n",
       "  <tbody>\n",
       "    <tr>\n",
       "      <th>0</th>\n",
       "      <td>citylink</td>\n",
       "      <td>-13.80</td>\n",
       "      <td>MPO</td>\n",
       "      <td>TRAVEL</td>\n",
       "      <td>TRAIN</td>\n",
       "    </tr>\n",
       "    <tr>\n",
       "      <th>1</th>\n",
       "      <td>citylink</td>\n",
       "      <td>-13.14</td>\n",
       "      <td>DEB</td>\n",
       "      <td>TRAVEL</td>\n",
       "      <td>TRAIN</td>\n",
       "    </tr>\n",
       "    <tr>\n",
       "      <th>2</th>\n",
       "      <td>1Jul19 OYSTER</td>\n",
       "      <td>-36.98</td>\n",
       "      <td>DEB</td>\n",
       "      <td>TRAVEL</td>\n",
       "      <td>TRAIN</td>\n",
       "    </tr>\n",
       "    <tr>\n",
       "      <th>3</th>\n",
       "      <td>travelodge</td>\n",
       "      <td>-75.73</td>\n",
       "      <td>MPO</td>\n",
       "      <td>TRAVEL</td>\n",
       "      <td>TRAIN</td>\n",
       "    </tr>\n",
       "    <tr>\n",
       "      <th>4</th>\n",
       "      <td>6Jul19 RINGGO</td>\n",
       "      <td>-37.86</td>\n",
       "      <td>CSH</td>\n",
       "      <td>TRAVEL</td>\n",
       "      <td>TRAIN</td>\n",
       "    </tr>\n",
       "  </tbody>\n",
       "</table>\n",
       "</div>"
      ],
      "text/plain": [
       "  bank_transaction_description  bank_transaction_amount bank_transaction_type  \\\n",
       "0                     citylink                   -13.80                   MPO   \n",
       "1                     citylink                   -13.14                   DEB   \n",
       "2                1Jul19 OYSTER                   -36.98                   DEB   \n",
       "3                   travelodge                   -75.73                   MPO   \n",
       "4                6Jul19 RINGGO                   -37.86                   CSH   \n",
       "\n",
       "  bank_transaction_category bank_transaction_dataset  \n",
       "0                    TRAVEL                    TRAIN  \n",
       "1                    TRAVEL                    TRAIN  \n",
       "2                    TRAVEL                    TRAIN  \n",
       "3                    TRAVEL                    TRAIN  \n",
       "4                    TRAVEL                    TRAIN  "
      ]
     },
     "execution_count": 115,
     "metadata": {},
     "output_type": "execute_result"
    }
   ],
   "source": [
    "#first few rows of final dataframe\n",
    "final_df_original.head()"
   ]
  },
  {
   "cell_type": "code",
   "execution_count": 116,
   "metadata": {},
   "outputs": [],
   "source": [
    "#making a copy of original dataframe\n",
    "final_df = final_df_original.copy()"
   ]
  },
  {
   "cell_type": "markdown",
   "metadata": {},
   "source": [
    "# Exploratory Data Analysis"
   ]
  },
  {
   "cell_type": "code",
   "execution_count": 117,
   "metadata": {},
   "outputs": [
    {
     "data": {
      "image/png": "[encoded data removed]",
      "text/plain": [
       "<Figure size 1008x576 with 1 Axes>"
      ]
     },
     "metadata": {
      "needs_background": "light"
     },
     "output_type": "display_data"
    }
   ],
   "source": [
    "#Number of transactions by category\n",
    "ax = final_df['bank_transaction_category'].value_counts().plot(kind='bar',\n",
    "                                    figsize=(14,8),\n",
    "                                    title=\"Number of Transactions\", color ='blue')\n",
    "ax.set_xlabel(\"Transaction Category\")\n",
    "ax.set_ylabel(\"Frequency\")\n",
    "plt.show()"
   ]
  },
  {
   "cell_type": "code",
   "execution_count": 167,
   "metadata": {},
   "outputs": [
    {
     "data": {
      "text/plain": [
       "ACCOMMODATION_AND_MEALS    3765\n",
       "TRAVEL                     3166\n",
       "BANK_OR_FINANCE_CHARGES    2790\n",
       "MOTOR_EXPENSES             1609\n",
       "INSURANCE                  1170\n",
       "Name: bank_transaction_category, dtype: int64"
      ]
     },
     "execution_count": 167,
     "metadata": {},
     "output_type": "execute_result"
    }
   ],
   "source": [
    "#transactions by category name\n",
    "final_df['bank_transaction_category'].value_counts()"
   ]
  },
  {
   "cell_type": "markdown",
   "metadata": {},
   "source": [
    "All category types have enough data points in each category."
   ]
  },
  {
   "cell_type": "code",
   "execution_count": 177,
   "metadata": {},
   "outputs": [
    {
     "data": {
      "image/png": "[encoded data removed]",
      "text/plain": [
       "<Figure size 1008x576 with 1 Axes>"
      ]
     },
     "metadata": {
      "needs_background": "light"
     },
     "output_type": "display_data"
    }
   ],
   "source": [
    "#Number of transaction types by category\n",
    "ax = final_df['bank_transaction_type'].value_counts().plot(kind='bar',\n",
    "                                    figsize=(14,8),\n",
    "                                    title=\"Number of Transaction Type\", color ='blue')\n",
    "ax.set_xlabel(\"Transaction Type\")\n",
    "ax.set_ylabel(\"Frequency\")\n",
    "plt.show()"
   ]
  },
  {
   "cell_type": "code",
   "execution_count": 169,
   "metadata": {},
   "outputs": [
    {
     "data": {
      "text/plain": [
       "bank_transaction_category  bank_transaction_type\n",
       "ACCOMMODATION_AND_MEALS    DEB                      1941\n",
       "                           CSH                      1112\n",
       "                           FPO                       398\n",
       "                           MPO                       314\n",
       "BANK_OR_FINANCE_CHARGES    CHG                      2510\n",
       "                           FPO                       149\n",
       "                           MPO                       131\n",
       "INSURANCE                  DD                        940\n",
       "                           MPO                       119\n",
       "                           FPO                       111\n",
       "MOTOR_EXPENSES             DEB                       865\n",
       "                           MPO                       298\n",
       "                           CSH                       261\n",
       "                           DD                        168\n",
       "                           FPO                        17\n",
       "TRAVEL                     DEB                      1872\n",
       "                           CSH                       668\n",
       "                           MPO                       622\n",
       "                           FPO                         4\n",
       "Name: bank_transaction_type, dtype: int64"
      ]
     },
     "execution_count": 169,
     "metadata": {},
     "output_type": "execute_result"
    }
   ],
   "source": [
    "#transactions by transaction type\n",
    "final_df.groupby(['bank_transaction_category'])['bank_transaction_type'].value_counts()"
   ]
  },
  {
   "cell_type": "code",
   "execution_count": 170,
   "metadata": {},
   "outputs": [
    {
     "data": {
      "image/png": "[encoded data removed]",
      "text/plain": [
       "<Figure size 432x288 with 1 Axes>"
      ]
     },
     "metadata": {
      "needs_background": "light"
     },
     "output_type": "display_data"
    }
   ],
   "source": [
    "#Number of transactions by Amount\n",
    "plt.hist(final_df['bank_transaction_amount'], bins = 10)\n",
    "plt.show()"
   ]
  },
  {
   "cell_type": "code",
   "execution_count": 171,
   "metadata": {},
   "outputs": [
    {
     "data": {
      "text/plain": [
       "count    12500.000000\n",
       "mean       -19.613017\n",
       "std         15.060147\n",
       "min       -102.590000\n",
       "25%        -28.022500\n",
       "50%        -19.040000\n",
       "75%         -4.687500\n",
       "max         -0.320000\n",
       "Name: bank_transaction_amount, dtype: float64"
      ]
     },
     "execution_count": 171,
     "metadata": {},
     "output_type": "execute_result"
    }
   ],
   "source": [
    "#Descriptive statistics for bank transaction amount\n",
    "final_df['bank_transaction_amount'].describe()"
   ]
  },
  {
   "cell_type": "markdown",
   "metadata": {},
   "source": [
    "Its a left skewed data. With minimum value of -102 and max of -0.21pence. "
   ]
  },
  {
   "cell_type": "code",
   "execution_count": 173,
   "metadata": {},
   "outputs": [
    {
     "data": {
      "text/plain": [
       "Fee                                                  63\n",
       "Bank Charges                                         57\n",
       "paypal                                               53\n",
       "PAYPAL                                               48\n",
       "AMZNMKTPLACE                                         34\n",
       "                                                     ..\n",
       "Sundry debit: indigo                                  1\n",
       "Sundry debit: Cash at Transact PREMIER INN 6Aug19     1\n",
       "Fin: Apple Pay  fuel service station                  1\n",
       "SUNDRY DEBIT  AIRBNB 30Jul19                          1\n",
       "just eat 30Jul19 CONTACTLESS                          1\n",
       "Name: bank_transaction_description, Length: 9473, dtype: int64"
      ]
     },
     "execution_count": 173,
     "metadata": {},
     "output_type": "execute_result"
    }
   ],
   "source": [
    "#Number of transactions by transaction description\n",
    "final_df['bank_transaction_description'].value_counts()"
   ]
  },
  {
   "cell_type": "markdown",
   "metadata": {},
   "source": [
    "There are as many as 9473 unique descriptions out of 12500. "
   ]
  },
  {
   "cell_type": "code",
   "execution_count": 174,
   "metadata": {},
   "outputs": [
    {
     "data": {
      "image/png": "[encoded data removed]",
      "text/plain": [
       "<Figure size 1008x576 with 1 Axes>"
      ]
     },
     "metadata": {
      "needs_background": "light"
     },
     "output_type": "display_data"
    }
   ],
   "source": [
    "#Number of transaction types by dataset\n",
    "ax = final_df.groupby(['bank_transaction_category'])['bank_transaction_dataset'].value_counts().plot(kind='bar',\n",
    "                                    figsize=(14,8),\n",
    "                                    title=\"Number of Transaction dataset\", color ='blue')\n",
    "ax.set_xlabel(\"Dataset\")\n",
    "ax.set_ylabel(\"Frequency\")\n",
    "plt.show()"
   ]
  },
  {
   "cell_type": "code",
   "execution_count": 175,
   "metadata": {},
   "outputs": [
    {
     "data": {
      "text/plain": [
       "TRAIN    10000\n",
       "VAL       2500\n",
       "Name: bank_transaction_dataset, dtype: int64"
      ]
     },
     "execution_count": 175,
     "metadata": {},
     "output_type": "execute_result"
    }
   ],
   "source": [
    "#Rows in train and validation dataset\n",
    "final_df['bank_transaction_dataset'].value_counts()"
   ]
  },
  {
   "cell_type": "markdown",
   "metadata": {},
   "source": [
    "There are 10000 rows in train dataset and 2500 rows in validation set.\n",
    "\n",
    "\n",
    "From the above graph and table below we can infer,\n",
    "\n",
    "all categories are distributed propotionately in both train and validation. This helps us get rid of imbalance classification issue."
   ]
  },
  {
   "cell_type": "code",
   "execution_count": 166,
   "metadata": {},
   "outputs": [
    {
     "data": {
      "text/plain": [
       "bank_transaction_category  bank_transaction_dataset\n",
       "ACCOMMODATION_AND_MEALS    TRAIN                       3017\n",
       "                           VAL                          748\n",
       "BANK_OR_FINANCE_CHARGES    TRAIN                       2250\n",
       "                           VAL                          540\n",
       "INSURANCE                  TRAIN                        920\n",
       "                           VAL                          250\n",
       "MOTOR_EXPENSES             TRAIN                       1235\n",
       "                           VAL                          374\n",
       "TRAVEL                     TRAIN                       2578\n",
       "                           VAL                          588\n",
       "Name: bank_transaction_dataset, dtype: int64"
      ]
     },
     "execution_count": 166,
     "metadata": {},
     "output_type": "execute_result"
    }
   ],
   "source": [
    "#Number of transactions by Train and Validation\n",
    "final_df.groupby(['bank_transaction_category'])['bank_transaction_dataset'].value_counts()"
   ]
  },
  {
   "cell_type": "markdown",
   "metadata": {},
   "source": [
    "# Train, and Test split"
   ]
  },
  {
   "cell_type": "code",
   "execution_count": 178,
   "metadata": {},
   "outputs": [
    {
     "name": "stdout",
     "output_type": "stream",
     "text": [
      "(2500,)\n",
      "(2500,)\n",
      "(10000,)\n",
      "(10000,)\n"
     ]
    }
   ],
   "source": [
    "#Converting the bank_transaction_category to numerical categorical variable\n",
    "final_df['bank_transaction_category_id'] = pd.factorize(final_df['bank_transaction_category'])[0] + 1\n",
    "\n",
    "#subset validation set from final_df\n",
    "X_test = final_df.loc[final_df['bank_transaction_dataset'] == 'VAL','bank_transaction_description']\n",
    "y_test = final_df.loc[final_df['bank_transaction_dataset'] == 'VAL','bank_transaction_category_id']\n",
    "\n",
    "#dimensions of validation sets\n",
    "print(X_test.shape)\n",
    "print(y_test.shape)\n",
    "\n",
    "#subset train set from final_df\n",
    "X_train = final_df.loc[final_df['bank_transaction_dataset'] == 'TRAIN','bank_transaction_description']\n",
    "y_train = final_df.loc[final_df['bank_transaction_dataset'] == 'TRAIN','bank_transaction_category_id']\n",
    "\n",
    "#dimensions of train sets\n",
    "print(X_train.shape)\n",
    "print(y_train.shape)"
   ]
  },
  {
   "cell_type": "markdown",
   "metadata": {},
   "source": [
    "# Text Preprocessing"
   ]
  },
  {
   "cell_type": "code",
   "execution_count": 179,
   "metadata": {},
   "outputs": [
    {
     "data": {
      "text/plain": [
       "(10000, 1109)"
      ]
     },
     "execution_count": 179,
     "metadata": {},
     "output_type": "execute_result"
    }
   ],
   "source": [
    "#import TfidfVectorizer\n",
    "from sklearn.feature_extraction.text import TfidfVectorizer\n",
    "\n",
    "#instantiate the TfidfVectorizer class\n",
    "tfidf = TfidfVectorizer(sublinear_tf=True, min_df=5, norm='l2', encoding='latin-1', ngram_range=(1, 2), stop_words='english')\n",
    "\n",
    "#fit and transforming the description column into a array of numbers\n",
    "features_train = tfidf.fit_transform(X_train.astype('U'))\n",
    "\n",
    "#assigning target variable\n",
    "labels_train = y_train\n",
    "\n",
    "#shape of transformed X_train\n",
    "features_train.shape"
   ]
  },
  {
   "cell_type": "code",
   "execution_count": 180,
   "metadata": {},
   "outputs": [],
   "source": [
    "#transforming the description column into a array of numbers\n",
    "features_test = tfidf.transform(X_test.astype('U'))\n",
    "\n",
    "#shape of transformed X_test\n",
    "labels_test = y_test"
   ]
  },
  {
   "cell_type": "markdown",
   "metadata": {},
   "source": [
    "# Modeling"
   ]
  },
  {
   "cell_type": "code",
   "execution_count": 187,
   "metadata": {},
   "outputs": [
    {
     "name": "stdout",
     "output_type": "stream",
     "text": [
      "Accuracy:  0.91\n",
      "              precision    recall  f1-score   support\n",
      "\n",
      "           1       0.88      0.87      0.87       588\n",
      "           2       0.88      0.79      0.83       374\n",
      "           3       0.92      0.94      0.93       748\n",
      "           4       0.96      0.97      0.97       540\n",
      "           5       0.87      0.96      0.91       250\n",
      "\n",
      "    accuracy                           0.91      2500\n",
      "   macro avg       0.90      0.91      0.90      2500\n",
      "weighted avg       0.91      0.91      0.91      2500\n",
      "\n"
     ]
    }
   ],
   "source": [
    "#importing random forest classifier\n",
    "from sklearn.ensemble import RandomForestClassifier\n",
    "\n",
    "#importing metrics for evaluation\n",
    "from sklearn.metrics import accuracy_score,classification_report\n",
    "\n",
    "#instantiate RandomForestClassifier class\n",
    "model  = RandomForestClassifier(random_state=123)\n",
    "\n",
    "#train the model\n",
    "model.fit(features_train, labels_train)\n",
    "\n",
    "#making prediction with the test set\n",
    "model_predictions = model.predict(features_test)\n",
    "\n",
    "#printing the accuracy\n",
    "print('Accuracy: ', accuracy_score(labels_test, model_predictions))\n",
    "\n",
    "#displaying the classification report\n",
    "print(classification_report(labels_test, model_predictions))"
   ]
  },
  {
   "cell_type": "markdown",
   "metadata": {},
   "source": [
    "Overall Acuracy: 91%\n",
    "\n",
    "*Precision* for class  c  is the number of true positives for class  c  as a proportion of the total number of positive predictions for class  c.\n",
    "\n",
    "Precision for various classes: \n",
    "\n",
    "1. Travel : 88%\n",
    "2. MOTOR_EXPENSES : 88%\n",
    "3. ACCOMMODATION_AND_MEALS : 92%\n",
    "4. BANK_OR_FINANCE_CHARGES : 96%\n",
    "5. INSURANCE : 87%\n",
    "\n",
    "Recall for class  c  is the number of true positives for class  c  as a proportion of the total number of actual positives for class  c\n",
    "\n",
    "Recall for various classes: \n",
    "\n",
    "1. Travel : 87%\n",
    "2. MOTOR_EXPENSES : 79%\n",
    "3. ACCOMMODATION_AND_MEALS : 94%\n",
    "4. BANK_OR_FINANCE_CHARGES : 97%\n",
    "5. INSURANCE : 96%\n"
   ]
  },
  {
   "cell_type": "code",
   "execution_count": 189,
   "metadata": {},
   "outputs": [
    {
     "data": {
      "text/plain": [
       "array([[512,  28,  34,  14,   0],\n",
       "       [ 31, 295,  18,   1,  29],\n",
       "       [ 36,   4, 703,   3,   2],\n",
       "       [  4,   0,   6, 526,   4],\n",
       "       [  0,   7,   2,   2, 239]], dtype=int64)"
      ]
     },
     "execution_count": 189,
     "metadata": {},
     "output_type": "execute_result"
    }
   ],
   "source": [
    "#Importing confusion matrix from sklearn metrics\n",
    "from sklearn.metrics import confusion_matrix\n",
    "\n",
    "#create the confusion matrix\n",
    "cm = confusion_matrix(labels_test, model_predictions)\n",
    "\n",
    "cm"
   ]
  },
  {
   "cell_type": "markdown",
   "metadata": {},
   "source": [
    "The diagonal elements(512,295,703,526,239) are the correctly classified rows. All other rows were classified incorrectly"
   ]
  },
  {
   "cell_type": "code",
   "execution_count": 191,
   "metadata": {},
   "outputs": [
    {
     "data": {
      "text/html": [
       "<div>\n",
       "<style scoped>\n",
       "    .dataframe tbody tr th:only-of-type {\n",
       "        vertical-align: middle;\n",
       "    }\n",
       "\n",
       "    .dataframe tbody tr th {\n",
       "        vertical-align: top;\n",
       "    }\n",
       "\n",
       "    .dataframe thead th {\n",
       "        text-align: right;\n",
       "    }\n",
       "</style>\n",
       "<table border=\"1\" class=\"dataframe\">\n",
       "  <thead>\n",
       "    <tr style=\"text-align: right;\">\n",
       "      <th></th>\n",
       "      <th>bank_transaction_category_id</th>\n",
       "      <th>bank_transaction_category</th>\n",
       "    </tr>\n",
       "  </thead>\n",
       "  <tbody>\n",
       "    <tr>\n",
       "      <th>0</th>\n",
       "      <td>1</td>\n",
       "      <td>TRAVEL</td>\n",
       "    </tr>\n",
       "    <tr>\n",
       "      <th>2510</th>\n",
       "      <td>2</td>\n",
       "      <td>MOTOR_EXPENSES</td>\n",
       "    </tr>\n",
       "    <tr>\n",
       "      <th>3660</th>\n",
       "      <td>3</td>\n",
       "      <td>ACCOMMODATION_AND_MEALS</td>\n",
       "    </tr>\n",
       "    <tr>\n",
       "      <th>6830</th>\n",
       "      <td>4</td>\n",
       "      <td>BANK_OR_FINANCE_CHARGES</td>\n",
       "    </tr>\n",
       "    <tr>\n",
       "      <th>9080</th>\n",
       "      <td>5</td>\n",
       "      <td>INSURANCE</td>\n",
       "    </tr>\n",
       "  </tbody>\n",
       "</table>\n",
       "</div>"
      ],
      "text/plain": [
       "      bank_transaction_category_id bank_transaction_category\n",
       "0                                1                    TRAVEL\n",
       "2510                             2            MOTOR_EXPENSES\n",
       "3660                             3   ACCOMMODATION_AND_MEALS\n",
       "6830                             4   BANK_OR_FINANCE_CHARGES\n",
       "9080                             5                 INSURANCE"
      ]
     },
     "execution_count": 191,
     "metadata": {},
     "output_type": "execute_result"
    }
   ],
   "source": [
    "#mapping category_id and category\n",
    "final_df[['bank_transaction_category_id','bank_transaction_category']].drop_duplicates()"
   ]
  },
  {
   "cell_type": "markdown",
   "metadata": {},
   "source": [
    "# Further Improvements"
   ]
  },
  {
   "cell_type": "markdown",
   "metadata": {},
   "source": [
    "1. Hyperparameter Tuning \n",
    "Tuning the model may give us better results and we may be able to generalize the model even more. \n",
    "\n",
    "2. Training with other modeling techniques.\n",
    "\n",
    "3. Using Cross Validation\n",
    "\n",
    "4. Adding more training data.\n",
    "\n",
    "5. The problem given was a balanced data while, in real scenario to get a balanced dataset is rare. Handling imbalanced data with sampling techniques.\n",
    "\n",
    "6. Use a powerful text preprocessor."
   ]
  },
  {
   "cell_type": "code",
   "execution_count": null,
   "metadata": {},
   "outputs": [],
   "source": []
  }
 ],
 "metadata": {
  "kernelspec": {
   "display_name": "Python 3",
   "language": "python",
   "name": "python3"
  },
  "language_info": {
   "codemirror_mode": {
    "name": "ipython",
    "version": 3
   },
   "file_extension": ".py",
   "mimetype": "text/x-python",
   "name": "python",
   "nbconvert_exporter": "python",
   "pygments_lexer": "ipython3",
   "version": "3.8.3"
  }
 },
 "nbformat": 4,
 "nbformat_minor": 4
}
